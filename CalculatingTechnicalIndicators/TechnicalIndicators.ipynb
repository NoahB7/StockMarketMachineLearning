{
 "cells": [
  {
   "cell_type": "code",
   "execution_count": 2,
   "metadata": {},
   "outputs": [],
   "source": [
    "import pandas as pd\n",
    "import numpy as np"
   ]
  },
  {
   "cell_type": "code",
   "execution_count": 42,
   "metadata": {
    "scrolled": false
   },
   "outputs": [
    {
     "data": {
      "text/plain": [
       "array([[147.87, 149.43, 147.681, 148.96, 'ok', 1636588800, 40999950],\n",
       "       [149.99, 150.4, 147.48, 148.43, 'ok', 1636675200, 63804008],\n",
       "       [150.0, 151.88, 149.43, 150.37, 'ok', 1636934400, 59222803],\n",
       "       [151.0, 151.488, 149.34, 149.94, 'ok', 1637020800, 59256210],\n",
       "       [153.49, 155.0, 150.99, 150.995, 'ok', 1637107200, 88807000],\n",
       "       [157.87, 158.67, 153.05, 153.71, 'ok', 1637193600, 137827673],\n",
       "       [160.55, 161.02, 156.5328, 157.65, 'ok', 1637280000, 117305597],\n",
       "       [161.02, 165.7, 161.0, 161.68, 'ok', 1637539200, 117467889],\n",
       "       [161.41, 161.8, 159.0601, 161.12, 'ok', 1637625600, 96041899],\n",
       "       [161.94, 162.14, 159.64, 160.75, 'ok', 1637712000, 69463623],\n",
       "       [156.81, 160.45, 156.36, 159.565, 'ok', 1637884800, 76959752],\n",
       "       [160.24, 161.19, 158.7901, 159.37, 'ok', 1638144000, 88748217],\n",
       "       [165.3, 165.52, 159.92, 159.985, 'ok', 1638230400, 174048056],\n",
       "       [164.77, 170.3, 164.53, 167.48, 'ok', 1638316800, 152423003],\n",
       "       [163.76, 164.2, 157.8, 158.735, 'ok', 1638403200, 136739174],\n",
       "       [161.84, 164.96, 159.72, 164.02, 'ok', 1638489600, 118023116],\n",
       "       [165.32, 167.8799, 164.28, 164.29, 'ok', 1638748800, 107496982],\n",
       "       [171.18, 171.58, 168.34, 169.08, 'ok', 1638835200, 120405352],\n",
       "       [175.08, 175.96, 170.7, 172.125, 'ok', 1638921600, 116998901],\n",
       "       [174.56, 176.75, 173.92, 174.91, 'ok', 1639008000, 108923739],\n",
       "       [179.45, 179.63, 174.69, 175.205, 'ok', 1639094400, 115402731],\n",
       "       [175.74, 182.13, 175.53, 181.115, 'ok', 1639353600, 153237019],\n",
       "       [174.33, 177.74, 172.21, 175.25, 'ok', 1639440000, 139380382],\n",
       "       [179.3, 179.5, 172.3108, 175.11, 'ok', 1639526400, 131063257],\n",
       "       [172.26, 181.14, 170.75, 179.28, 'ok', 1639612800, 150185843],\n",
       "       [171.14, 173.47, 169.69, 169.93, 'ok', 1639699200, 195923441],\n",
       "       [169.75, 170.58, 167.46, 168.28, 'ok', 1639958400, 107499114],\n",
       "       [172.99, 173.2, 169.12, 171.555, 'ok', 1640044800, 91185905],\n",
       "       [175.64, 175.86, 172.15, 173.04, 'ok', 1640131200, 92135303],\n",
       "       [176.28, 176.85, 175.27, 175.85, 'ok', 1640217600, 68227500]],\n",
       "      dtype=object)"
      ]
     },
     "execution_count": 42,
     "metadata": {},
     "output_type": "execute_result"
    }
   ],
   "source": [
    "df = pd.read_csv('testdata.csv')\n",
    "data = np.array(df)\n",
    "data"
   ]
  },
  {
   "cell_type": "markdown",
   "metadata": {},
   "source": [
    "# Relative Strength Index (RSI)"
   ]
  },
  {
   "cell_type": "markdown",
   "metadata": {},
   "source": [
    "RSI is only calculated on the last 14 values"
   ]
  },
  {
   "cell_type": "code",
   "execution_count": 4,
   "metadata": {},
   "outputs": [],
   "source": [
    "#calculating RSI\n",
    "def RSI(data):\n",
    "    gainavg = 0\n",
    "    lossavg = 0\n",
    "    for i in range(len(data)-14,len(data)):\n",
    "        #difference of yesterdays and todays closing price\n",
    "        #absolute value of losses (negative numbers when subtracting yesterdays closing from todays closing) is taken\n",
    "        gain_loss = data[i][0]-data[i-1][0]\n",
    "        if(gain_loss<=0):\n",
    "            lossavg += gain_loss*-1\n",
    "        else:\n",
    "            gainavg += gain_loss\n",
    "    gainavg/=14\n",
    "    lossavg/=14\n",
    "    #actual RSI\n",
    "    return 100 - (100/(1+(gainavg/lossavg)))"
   ]
  },
  {
   "cell_type": "code",
   "execution_count": 5,
   "metadata": {
    "scrolled": false
   },
   "outputs": [
    {
     "data": {
      "text/plain": [
       "66.10887996430165"
      ]
     },
     "execution_count": 5,
     "metadata": {},
     "output_type": "execute_result"
    }
   ],
   "source": [
    "RSI(data)"
   ]
  },
  {
   "cell_type": "markdown",
   "metadata": {},
   "source": [
    "# Money Flow Index (MFI)"
   ]
  },
  {
   "cell_type": "code",
   "execution_count": 6,
   "metadata": {},
   "outputs": [],
   "source": [
    "#calculating MFI\n",
    "def MFI(data):\n",
    "    count = 0\n",
    "    pos_flow = 0\n",
    "    neg_flow = 0\n",
    "    for i in range(len(data)-14,len(data)):\n",
    "        #money flow = (close+low+high)/3 * volume\n",
    "        #determine if positive or negative money flow by whether the flow has gone up from the previous day or down\n",
    "        current_flow = ((data[i][0]+data[i][1]+data[i][2])/3) * data[i][len(data[i])-1]\n",
    "        prev_flow = ((data[i-1][0]+data[i-1][1]+data[i-1][2])/3) * data[i-1][len(data[i-1])-1]\n",
    "        if(current_flow-prev_flow <= 0):\n",
    "            neg_flow += current_flow\n",
    "        else:\n",
    "            pos_flow += current_flow\n",
    "    #actual MFI\n",
    "    return 100 - (100/(1+(pos_flow/neg_flow)))"
   ]
  },
  {
   "cell_type": "code",
   "execution_count": 7,
   "metadata": {
    "scrolled": true
   },
   "outputs": [
    {
     "data": {
      "text/plain": [
       "48.901415708322396"
      ]
     },
     "execution_count": 7,
     "metadata": {},
     "output_type": "execute_result"
    }
   ],
   "source": [
    "MFI(data)"
   ]
  },
  {
   "cell_type": "markdown",
   "metadata": {},
   "source": [
    "# Exponential Moving Average (EMA)"
   ]
  },
  {
   "cell_type": "code",
   "execution_count": 57,
   "metadata": {},
   "outputs": [],
   "source": [
    "#calculating EMA\n",
    "def EMA(data, period):\n",
    "    #calculate SMA for a 5 day period first\n",
    "    SMA = 0\n",
    "    for i in range(len(data)-period, len(data)-period+5):\n",
    "        SMA += data[i][0]\n",
    "    SMA /= 5\n",
    "    #smoothing weight\n",
    "    sw = 2 / (5+1)\n",
    "    #calculate EMA for each 5 day period moving forward through the latest 14 points of data\n",
    "    prevEMA = SMA\n",
    "    for i in range(len(data)-period+6, len(data)):\n",
    "        EMA = data[i][0]*sw\n",
    "        EMA += prevEMA * (1 - sw)\n",
    "        prevEMA = EMA\n",
    "    return EMA"
   ]
  },
  {
   "cell_type": "code",
   "execution_count": 60,
   "metadata": {},
   "outputs": [
    {
     "data": {
      "text/plain": [
       "174.46743973213964"
      ]
     },
     "execution_count": 60,
     "metadata": {},
     "output_type": "execute_result"
    }
   ],
   "source": [
    "EMA(data,28)"
   ]
  },
  {
   "cell_type": "markdown",
   "metadata": {},
   "source": [
    "# Stochastic Oscillator"
   ]
  },
  {
   "cell_type": "code",
   "execution_count": 55,
   "metadata": {},
   "outputs": [],
   "source": [
    "#calculationg Stochastic Oscillator\n",
    "def SO(data):\n",
    "    low = data[len(data)-15][0]\n",
    "    high = data[len(data)-15][0]\n",
    "    for i in range(len(data)-15, len(data)-1):\n",
    "        if data[i][0] < low:\n",
    "            low = data[i][0]\n",
    "        if data[i][0] > high:\n",
    "            high = data[i][0]\n",
    "    return ((data[len(data)-1][0] - low)/(high-low))*100"
   ]
  },
  {
   "cell_type": "code",
   "execution_count": 56,
   "metadata": {},
   "outputs": [
    {
     "data": {
      "text/plain": [
       "81.9988642816582"
      ]
     },
     "execution_count": 56,
     "metadata": {},
     "output_type": "execute_result"
    }
   ],
   "source": [
    "SO(data)"
   ]
  },
  {
   "cell_type": "markdown",
   "metadata": {},
   "source": [
    "# Moving Average Convergence Divergence (MACD)"
   ]
  },
  {
   "cell_type": "code",
   "execution_count": 65,
   "metadata": {},
   "outputs": [],
   "source": [
    "#calculating MACD\n",
    "def MACD(data):\n",
    "    return EMA(data,12) - EMA(data,26)"
   ]
  },
  {
   "cell_type": "code",
   "execution_count": 66,
   "metadata": {},
   "outputs": [
    {
     "data": {
      "text/plain": [
       "0.02589957492929784"
      ]
     },
     "execution_count": 66,
     "metadata": {},
     "output_type": "execute_result"
    }
   ],
   "source": [
    "MACD(data)"
   ]
  },
  {
   "cell_type": "code",
   "execution_count": null,
   "metadata": {},
   "outputs": [],
   "source": []
  }
 ],
 "metadata": {
  "kernelspec": {
   "display_name": "Python 3",
   "language": "python",
   "name": "python3"
  },
  "language_info": {
   "codemirror_mode": {
    "name": "ipython",
    "version": 3
   },
   "file_extension": ".py",
   "mimetype": "text/x-python",
   "name": "python",
   "nbconvert_exporter": "python",
   "pygments_lexer": "ipython3",
   "version": "3.8.5"
  }
 },
 "nbformat": 4,
 "nbformat_minor": 4
}
