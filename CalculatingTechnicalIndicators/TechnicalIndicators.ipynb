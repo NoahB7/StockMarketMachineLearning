{
 "cells": [
  {
   "cell_type": "code",
   "execution_count": 1,
   "metadata": {},
   "outputs": [],
   "source": [
    "import pandas as pd\n",
    "import numpy as np"
   ]
  },
  {
   "cell_type": "markdown",
   "metadata": {},
   "source": [
    "Must be at least 26 prior points of data to calculate all technical indicators that will be used as features at a certain point"
   ]
  },
  {
   "cell_type": "code",
   "execution_count": 15,
   "metadata": {
    "scrolled": false
   },
   "outputs": [
    {
     "data": {
      "text/plain": [
       "array([[3.2290000e+01, 3.2870000e+01, 3.2170000e+01, 3.2250000e+01,\n",
       "                  nan, 1.6333056e+09, 1.3050690e+06, 3.1730000e+01],\n",
       "       [3.1930000e+01, 3.2690000e+01, 3.1700000e+01, 3.2580000e+01,\n",
       "                  nan, 1.6333920e+09, 9.9851500e+05, 3.2190000e+01],\n",
       "       [3.1730000e+01, 3.1780100e+01, 3.1360000e+01, 3.1670000e+01,\n",
       "                  nan, 1.6334784e+09, 6.2008400e+05, 3.2900000e+01],\n",
       "       [3.2190000e+01, 3.2280000e+01, 3.1720000e+01, 3.1730000e+01,\n",
       "                  nan, 1.6335648e+09, 5.5652700e+05, 3.2990000e+01],\n",
       "       [3.2900000e+01, 3.3110000e+01, 3.2420000e+01, 3.2420000e+01,\n",
       "                  nan, 1.6336512e+09, 8.0980000e+05, 3.3140000e+01],\n",
       "       [3.2990000e+01, 3.3350000e+01, 3.2910000e+01, 3.3330000e+01,\n",
       "                  nan, 1.6339104e+09, 4.9612400e+05, 3.3670000e+01],\n",
       "       [3.3140000e+01, 3.3306500e+01, 3.2908900e+01, 3.2910000e+01,\n",
       "                  nan, 1.6339968e+09, 7.4236900e+05, 3.4270000e+01],\n",
       "       [3.3670000e+01, 3.3670000e+01, 3.2900000e+01, 3.3110000e+01,\n",
       "                  nan, 1.6340832e+09, 7.7660000e+05, 3.4400000e+01],\n",
       "       [3.4270000e+01, 3.4380000e+01, 3.3930000e+01, 3.4000000e+01,\n",
       "                  nan, 1.6341696e+09, 7.4450600e+05, 3.4020000e+01],\n",
       "       [3.4400000e+01, 3.4730000e+01, 3.4340000e+01, 3.4460000e+01,\n",
       "                  nan, 1.6342560e+09, 5.8757100e+05, 3.3980000e+01],\n",
       "       [3.4020000e+01, 3.4640000e+01, 3.3860000e+01, 3.4510000e+01,\n",
       "                  nan, 1.6345152e+09, 8.5069100e+05, 3.4350000e+01],\n",
       "       [3.3980000e+01, 3.4345000e+01, 3.3950000e+01, 3.4210000e+01,\n",
       "                  nan, 1.6346016e+09, 5.8016600e+05, 3.3830000e+01],\n",
       "       [3.4350000e+01, 3.4390000e+01, 3.3760000e+01, 3.3930000e+01,\n",
       "                  nan, 1.6346880e+09, 6.2525100e+05, 3.3640000e+01],\n",
       "       [3.3830000e+01, 3.4400000e+01, 3.3830000e+01, 3.4240000e+01,\n",
       "                  nan, 1.6347744e+09, 9.2217100e+05, 3.3820000e+01],\n",
       "       [3.3640000e+01, 3.3900000e+01, 3.3440000e+01, 3.3830000e+01,\n",
       "                  nan, 1.6348608e+09, 8.6487100e+05, 3.3580000e+01],\n",
       "       [3.3820000e+01, 3.3980000e+01, 3.3285000e+01, 3.3770000e+01,\n",
       "                  nan, 1.6351200e+09, 7.5462700e+05, 3.3190000e+01],\n",
       "       [3.3580000e+01, 3.4170000e+01, 3.3560000e+01, 3.3920000e+01,\n",
       "                  nan, 1.6352064e+09, 5.1640300e+05, 3.3480000e+01],\n",
       "       [3.3190000e+01, 3.3620000e+01, 3.3190000e+01, 3.3330000e+01,\n",
       "                  nan, 1.6352928e+09, 6.5064600e+05, 3.3090000e+01],\n",
       "       [3.3480000e+01, 3.3580000e+01, 3.3120000e+01, 3.3190000e+01,\n",
       "                  nan, 1.6353792e+09, 8.2163200e+05, 3.3550000e+01],\n",
       "       [3.3090000e+01, 3.3400000e+01, 3.2830000e+01, 3.3350000e+01,\n",
       "                  nan, 1.6354656e+09, 8.5064600e+05, 3.3310000e+01],\n",
       "       [3.3550000e+01, 3.3652500e+01, 3.3210000e+01, 3.3300000e+01,\n",
       "                  nan, 1.6357248e+09, 5.5571900e+05, 3.2820000e+01],\n",
       "       [3.3310000e+01, 3.3545000e+01, 3.3205000e+01, 3.3430000e+01,\n",
       "                  nan, 1.6358112e+09, 5.0870500e+05, 3.2600000e+01],\n",
       "       [3.2820000e+01, 3.3230000e+01, 3.2730000e+01, 3.3010000e+01,\n",
       "                  nan, 1.6358976e+09, 5.6547200e+05, 3.3810000e+01],\n",
       "       [3.2600000e+01, 3.3110000e+01, 3.2380000e+01, 3.2960000e+01,\n",
       "                  nan, 1.6359840e+09, 9.8783600e+05, 3.4400000e+01],\n",
       "       [3.3810000e+01, 3.3840000e+01, 3.2770000e+01, 3.2900000e+01,\n",
       "                  nan, 1.6360704e+09, 1.2503750e+06, 3.4460000e+01],\n",
       "       [3.4400000e+01, 3.4430000e+01, 3.3680000e+01, 3.3890000e+01,\n",
       "                  nan, 1.6363296e+09, 1.4692980e+06, 3.3410000e+01],\n",
       "       [3.4460000e+01, 3.4550000e+01, 3.3990000e+01, 3.4340000e+01,\n",
       "                  nan, 1.6364160e+09, 7.4747500e+05, 3.3060000e+01],\n",
       "       [3.3410000e+01, 3.4600000e+01, 3.3380000e+01, 3.4240000e+01,\n",
       "                  nan, 1.6365024e+09, 1.0187440e+06, 3.3070000e+01],\n",
       "       [3.3060000e+01, 3.3540000e+01, 3.2890000e+01, 3.3370000e+01,\n",
       "                  nan, 1.6365888e+09, 8.1557600e+05, 3.3450000e+01],\n",
       "       [3.3070000e+01, 3.3230000e+01, 3.2820000e+01, 3.3010000e+01,\n",
       "                  nan, 1.6366752e+09, 6.5028100e+05, 3.3100000e+01],\n",
       "       [3.3450000e+01, 3.3580000e+01, 3.2730000e+01, 3.3200000e+01,\n",
       "                  nan, 1.6369344e+09, 6.1918140e+06, 3.3070000e+01],\n",
       "       [3.3100000e+01, 3.3550000e+01, 3.2870000e+01, 3.3500000e+01,\n",
       "                  nan, 1.6370208e+09, 8.5604200e+05, 3.3290000e+01],\n",
       "       [3.3070000e+01, 3.3400000e+01, 3.2850000e+01, 3.2990000e+01,\n",
       "                  nan, 1.6371072e+09, 7.2411300e+05, 3.2900000e+01],\n",
       "       [3.3290000e+01, 3.3390000e+01, 3.2850000e+01, 3.3160000e+01,\n",
       "                  nan, 1.6371936e+09, 8.3584800e+05, 3.1890000e+01],\n",
       "       [3.2900000e+01, 3.3000000e+01, 3.2400000e+01, 3.2970000e+01,\n",
       "                  nan, 1.6372800e+09, 1.1644290e+06, 3.1270000e+01],\n",
       "       [3.1890000e+01, 3.2580000e+01, 3.1870000e+01, 3.2570000e+01,\n",
       "                  nan, 1.6375392e+09, 1.3886240e+06, 3.1230000e+01],\n",
       "       [3.1270000e+01, 3.1740000e+01, 3.1000000e+01, 3.1580000e+01,\n",
       "                  nan, 1.6376256e+09, 1.5520510e+06, 3.0460000e+01],\n",
       "       [3.1230000e+01, 3.1580000e+01, 3.0980000e+01, 3.1220000e+01,\n",
       "                  nan, 1.6377120e+09, 1.1653840e+06, 3.0230000e+01],\n",
       "       [3.0460000e+01, 3.0660000e+01, 2.9530000e+01, 3.0190000e+01,\n",
       "                  nan, 1.6378848e+09, 1.2649670e+06, 2.9650000e+01],\n",
       "       [3.0230000e+01, 3.0770000e+01, 2.9850000e+01, 3.0610000e+01,\n",
       "                  nan, 1.6381440e+09, 1.2879880e+06, 2.9160000e+01],\n",
       "       [2.9650000e+01, 2.9860000e+01, 2.9165000e+01, 2.9800000e+01,\n",
       "                  nan, 1.6382304e+09, 1.4060380e+06, 2.9770000e+01],\n",
       "       [2.9160000e+01, 3.0360000e+01, 2.9140100e+01, 3.0150000e+01,\n",
       "                  nan, 1.6383168e+09, 1.0283090e+06, 2.9340000e+01],\n",
       "       [2.9770000e+01, 2.9970000e+01, 2.8890000e+01, 2.9180000e+01,\n",
       "                  nan, 1.6384032e+09, 1.0105470e+06, 2.9660000e+01],\n",
       "       [2.9340000e+01, 3.0170000e+01, 2.9210000e+01, 3.0000000e+01,\n",
       "                  nan, 1.6384896e+09, 8.7594200e+05, 3.0370000e+01],\n",
       "       [2.9660000e+01, 2.9920000e+01, 2.9270000e+01, 2.9560000e+01,\n",
       "                  nan, 1.6387488e+09, 8.1183700e+05, 3.0210000e+01],\n",
       "       [3.0370000e+01, 3.0520000e+01, 2.9920000e+01, 2.9940000e+01,\n",
       "                  nan, 1.6388352e+09, 8.2033900e+05, 2.9660000e+01],\n",
       "       [3.0210000e+01, 3.0700000e+01, 3.0100000e+01, 3.0480000e+01,\n",
       "                  nan, 1.6389216e+09, 8.4904800e+05, 2.9520000e+01],\n",
       "       [2.9660000e+01, 3.0000000e+01, 2.9565000e+01, 2.9940000e+01,\n",
       "                  nan, 1.6390080e+09, 7.3042300e+05, 2.9390000e+01],\n",
       "       [2.9520000e+01, 2.9860000e+01, 2.9305000e+01, 2.9810000e+01,\n",
       "                  nan, 1.6390944e+09, 7.2596100e+05, 2.9200000e+01],\n",
       "       [2.9390000e+01, 2.9590000e+01, 2.9215000e+01, 2.9310000e+01,\n",
       "                  nan, 1.6393536e+09, 9.1404800e+05, 2.9540000e+01],\n",
       "       [2.9200000e+01, 2.9555000e+01, 2.9150100e+01, 2.9230000e+01,\n",
       "                  nan, 1.6394400e+09, 6.3590600e+05, 2.9550000e+01],\n",
       "       [2.9540000e+01, 2.9610000e+01, 2.8940000e+01, 2.9100000e+01,\n",
       "                  nan, 1.6395264e+09, 7.7372300e+05, 2.9480000e+01],\n",
       "       [2.9550000e+01, 3.0090000e+01, 2.9540000e+01, 2.9730000e+01,\n",
       "                  nan, 1.6396128e+09, 9.2163900e+05, 2.9400000e+01],\n",
       "       [2.9480000e+01, 2.9750100e+01, 2.8900000e+01, 2.9130000e+01,\n",
       "                  nan, 1.6396992e+09, 9.2651800e+05, 2.9710000e+01],\n",
       "       [2.9400000e+01, 2.9470000e+01, 2.8930000e+01, 2.9030000e+01,\n",
       "                  nan, 1.6399584e+09, 9.2615000e+05, 2.9970000e+01],\n",
       "       [2.9710000e+01, 2.9910000e+01, 2.9520000e+01, 2.9700000e+01,\n",
       "                  nan, 1.6400448e+09, 9.3981200e+05, 3.0110000e+01]])"
      ]
     },
     "execution_count": 15,
     "metadata": {},
     "output_type": "execute_result"
    }
   ],
   "source": [
    "df = pd.read_csv('PBA.csv')\n",
    "data = np.array(df)\n",
    "data"
   ]
  },
  {
   "cell_type": "markdown",
   "metadata": {},
   "source": [
    "# Relative Strength Index (RSI)"
   ]
  },
  {
   "cell_type": "markdown",
   "metadata": {},
   "source": [
    "RSI is only calculated on the last 14 values"
   ]
  },
  {
   "cell_type": "code",
   "execution_count": 16,
   "metadata": {},
   "outputs": [],
   "source": [
    "#calculating RSI\n",
    "def RSI(data):\n",
    "    gainavg = 0\n",
    "    lossavg = 0\n",
    "    for i in range(len(data)-14,len(data)):\n",
    "        #difference of yesterdays and todays closing price\n",
    "        #absolute value of losses (negative numbers when subtracting yesterdays closing from todays closing) is taken\n",
    "        gain_loss = data[i][0]-data[i-1][0]\n",
    "        if(gain_loss<=0):\n",
    "            lossavg += gain_loss*-1\n",
    "        else:\n",
    "            gainavg += gain_loss\n",
    "    gainavg/=14\n",
    "    lossavg/=14\n",
    "    #actual RSI\n",
    "    return 100 - (100/(1+(gainavg/lossavg)))"
   ]
  },
  {
   "cell_type": "code",
   "execution_count": 17,
   "metadata": {
    "scrolled": false
   },
   "outputs": [
    {
     "data": {
      "text/plain": [
       "56.79012345679012"
      ]
     },
     "execution_count": 17,
     "metadata": {},
     "output_type": "execute_result"
    }
   ],
   "source": [
    "RSI(data)"
   ]
  },
  {
   "cell_type": "markdown",
   "metadata": {},
   "source": [
    "# Money Flow Index (MFI)"
   ]
  },
  {
   "cell_type": "markdown",
   "metadata": {},
   "source": [
    "Last 14 values"
   ]
  },
  {
   "cell_type": "code",
   "execution_count": 18,
   "metadata": {},
   "outputs": [],
   "source": [
    "#calculating MFI\n",
    "def MFI(data):\n",
    "    count = 0\n",
    "    pos_flow = 0\n",
    "    neg_flow = 0\n",
    "    for i in range(len(data)-14,len(data)):\n",
    "        #money flow = (close+low+high)/3 * volume\n",
    "        #determine if positive or negative money flow by whether the flow has gone up from the previous day or down\n",
    "        current_flow = ((data[i][0]+data[i][1]+data[i][2])/3) * data[i][len(data[i])-1]\n",
    "        prev_flow = ((data[i-1][0]+data[i-1][1]+data[i-1][2])/3) * data[i-1][len(data[i-1])-1]\n",
    "        if(current_flow-prev_flow <= 0):\n",
    "            neg_flow += current_flow\n",
    "        else:\n",
    "            pos_flow += current_flow\n",
    "    #actual MFI\n",
    "    return 100 - (100/(1+(pos_flow/neg_flow)))"
   ]
  },
  {
   "cell_type": "code",
   "execution_count": 19,
   "metadata": {
    "scrolled": true
   },
   "outputs": [
    {
     "data": {
      "text/plain": [
       "50.221389842748934"
      ]
     },
     "execution_count": 19,
     "metadata": {},
     "output_type": "execute_result"
    }
   ],
   "source": [
    "MFI(data)"
   ]
  },
  {
   "cell_type": "markdown",
   "metadata": {},
   "source": [
    "# Exponential Moving Average (EMA)"
   ]
  },
  {
   "cell_type": "markdown",
   "metadata": {},
   "source": [
    "Dynamic time periods, using 5 day EMAs to calculate longer period EMA"
   ]
  },
  {
   "cell_type": "code",
   "execution_count": 20,
   "metadata": {},
   "outputs": [],
   "source": [
    "#calculating EMA\n",
    "def EMA(data, period):\n",
    "    #calculate SMA for a 5 day period first\n",
    "    SMA = 0\n",
    "    for i in range(len(data)-period, len(data)-period+5):\n",
    "        SMA += data[i][0]\n",
    "    SMA /= 5\n",
    "    #smoothing weight\n",
    "    sw = 2 / (5+1)\n",
    "    #calculate EMA for each 5 day period moving forward through the latest 14 points of data\n",
    "    prevEMA = SMA\n",
    "    for i in range(len(data)-period+6, len(data)):\n",
    "        EMA = data[i][0]*sw\n",
    "        EMA += prevEMA * (1 - sw)\n",
    "        prevEMA = EMA\n",
    "    return EMA"
   ]
  },
  {
   "cell_type": "code",
   "execution_count": 21,
   "metadata": {},
   "outputs": [
    {
     "data": {
      "text/plain": [
       "29.5508260935833"
      ]
     },
     "execution_count": 21,
     "metadata": {},
     "output_type": "execute_result"
    }
   ],
   "source": [
    "EMA(data,14)"
   ]
  },
  {
   "cell_type": "markdown",
   "metadata": {},
   "source": [
    "# Stochastic Oscillator"
   ]
  },
  {
   "cell_type": "markdown",
   "metadata": {},
   "source": [
    "14 day again"
   ]
  },
  {
   "cell_type": "code",
   "execution_count": 22,
   "metadata": {},
   "outputs": [],
   "source": [
    "#calculationg Stochastic Oscillator\n",
    "def SO(data):\n",
    "    low = data[len(data)-15][0]\n",
    "    high = data[len(data)-15][0]\n",
    "    for i in range(len(data)-15, len(data)-1):\n",
    "        if data[i][0] < low:\n",
    "            low = data[i][0]\n",
    "        if data[i][0] > high:\n",
    "            high = data[i][0]\n",
    "    return ((data[len(data)-1][0] - low)/(high-low))*100"
   ]
  },
  {
   "cell_type": "code",
   "execution_count": 23,
   "metadata": {},
   "outputs": [
    {
     "data": {
      "text/plain": [
       "45.45454545454548"
      ]
     },
     "execution_count": 23,
     "metadata": {},
     "output_type": "execute_result"
    }
   ],
   "source": [
    "SO(data)"
   ]
  },
  {
   "cell_type": "markdown",
   "metadata": {},
   "source": [
    "# Moving Average Convergence Divergence (MACD)"
   ]
  },
  {
   "cell_type": "markdown",
   "metadata": {},
   "source": [
    "12 day EMA - 26 day EMA"
   ]
  },
  {
   "cell_type": "code",
   "execution_count": 24,
   "metadata": {},
   "outputs": [],
   "source": [
    "#calculating MACD\n",
    "def MACD(data):\n",
    "    return EMA(data,12) - EMA(data,26)"
   ]
  },
  {
   "cell_type": "code",
   "execution_count": 25,
   "metadata": {},
   "outputs": [
    {
     "data": {
      "text/plain": [
       "0.02042771406559396"
      ]
     },
     "execution_count": 25,
     "metadata": {},
     "output_type": "execute_result"
    }
   ],
   "source": [
    "MACD(data)"
   ]
  },
  {
   "cell_type": "code",
   "execution_count": null,
   "metadata": {},
   "outputs": [],
   "source": []
  }
 ],
 "metadata": {
  "kernelspec": {
   "display_name": "Python 3",
   "language": "python",
   "name": "python3"
  },
  "language_info": {
   "codemirror_mode": {
    "name": "ipython",
    "version": 3
   },
   "file_extension": ".py",
   "mimetype": "text/x-python",
   "name": "python",
   "nbconvert_exporter": "python",
   "pygments_lexer": "ipython3",
   "version": "3.8.5"
  }
 },
 "nbformat": 4,
 "nbformat_minor": 4
}
