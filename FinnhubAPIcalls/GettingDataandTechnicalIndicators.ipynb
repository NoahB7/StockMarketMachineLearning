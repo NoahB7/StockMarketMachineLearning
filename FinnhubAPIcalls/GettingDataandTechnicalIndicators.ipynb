{
 "cells": [
  {
   "cell_type": "code",
   "execution_count": 9,
   "metadata": {},
   "outputs": [],
   "source": [
    "import finnhub\n",
    "import pandas as pd\n",
    "import datetime\n",
    "import time"
   ]
  },
  {
   "cell_type": "code",
   "execution_count": 2,
   "metadata": {},
   "outputs": [],
   "source": [
    "api_key = \"c737v2aad3ie5q4nhmgg\""
   ]
  },
  {
   "cell_type": "markdown",
   "metadata": {},
   "source": [
    "# GRABBING SYMBOLS"
   ]
  },
  {
   "cell_type": "code",
   "execution_count": 40,
   "metadata": {
    "scrolled": false
   },
   "outputs": [],
   "source": [
    "finnhub_client = finnhub.Client(api_key=Key)\n",
    "\n",
    "stock_symbols = finnhub_client.stock_symbols('US')\n",
    "f = open('symbols.txt','w')\n",
    "for symbol in stock_symbols:\n",
    "    f.write(str(symbol['symbol']))\n",
    "    f.write(\"\\n\")\n",
    "          \n",
    "f.close()"
   ]
  },
  {
   "cell_type": "markdown",
   "metadata": {},
   "source": [
    "# ACCUMULATING DATA"
   ]
  },
  {
   "cell_type": "code",
   "execution_count": 29,
   "metadata": {},
   "outputs": [],
   "source": [
    "stock = 'SQ'\n",
    "resolution = 'D'\n",
    "start = int(time.mktime(datetime.datetime(2021, 11, 24, 23, 59).timetuple()))\n",
    "stop = int(time.mktime(datetime.datetime(2021, 12, 24, 23, 59).timetuple()))\n",
    "\n",
    "finnhub_client = finnhub.Client(api_key=api_key)\n",
    "\n",
    "df = pd.DataFrame(finnhub_client.stock_candles('AAPL', 'D', start, stop))\n",
    "\n",
    "df.to_csv('testdata.csv',index=False)"
   ]
  },
  {
   "cell_type": "code",
   "execution_count": null,
   "metadata": {},
   "outputs": [],
   "source": []
  }
 ],
 "metadata": {
  "kernelspec": {
   "display_name": "Python 3",
   "language": "python",
   "name": "python3"
  },
  "language_info": {
   "codemirror_mode": {
    "name": "ipython",
    "version": 3
   },
   "file_extension": ".py",
   "mimetype": "text/x-python",
   "name": "python",
   "nbconvert_exporter": "python",
   "pygments_lexer": "ipython3",
   "version": "3.8.5"
  }
 },
 "nbformat": 4,
 "nbformat_minor": 4
}
