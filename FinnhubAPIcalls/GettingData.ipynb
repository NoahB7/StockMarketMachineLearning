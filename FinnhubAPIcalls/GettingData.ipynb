{
 "cells": [
  {
   "cell_type": "code",
   "execution_count": 28,
   "metadata": {},
   "outputs": [],
   "source": [
    "import finnhub\n",
    "import pandas as pd\n",
    "import datetime\n",
    "import time\n",
    "import numpy as np"
   ]
  },
  {
   "cell_type": "code",
   "execution_count": 2,
   "metadata": {},
   "outputs": [],
   "source": [
    "api_key = \"c737v2aad3ie5q4nhmgg\""
   ]
  },
  {
   "cell_type": "markdown",
   "metadata": {},
   "source": [
    "# GRABBING SYMBOLS"
   ]
  },
  {
   "cell_type": "code",
   "execution_count": 5,
   "metadata": {
    "scrolled": false
   },
   "outputs": [],
   "source": [
    "finnhub_client = finnhub.Client(api_key=api_key)\n",
    "\n",
    "stock_symbols = finnhub_client.stock_symbols('US')\n",
    "f = open('symbols.txt','w')\n",
    "for symbol in stock_symbols:\n",
    "    f.write(str(symbol['symbol']))\n",
    "    f.write(\"\\n\")\n",
    "          \n",
    "f.close()"
   ]
  },
  {
   "cell_type": "markdown",
   "metadata": {},
   "source": [
    "# ACCUMULATING DATA"
   ]
  },
  {
   "cell_type": "code",
   "execution_count": 76,
   "metadata": {},
   "outputs": [],
   "source": [
    "def addTarget(data, daycount):\n",
    "    data['y'] = []\n",
    "    for i in range(daycount, len(data['c'])):\n",
    "        data['y'].append(data['c'][i])\n",
    "    for key in data.keys():\n",
    "        if key != 'y':\n",
    "            data[key] = data[key][:-daycount]"
   ]
  },
  {
   "cell_type": "code",
   "execution_count": 78,
   "metadata": {},
   "outputs": [
    {
     "name": "stdout",
     "output_type": "stream",
     "text": [
      "CLAY\n",
      "CNB\n",
      "DUT\n",
      "MBB\n",
      "KB\n",
      "TOF\n",
      "SLGY\n",
      "TBB\n",
      "DAA\n",
      "QRV\n",
      "MEKT\n",
      "VITY\n",
      "PBA\n",
      "STRF\n",
      "HMDP\n",
      "QQQ\n",
      "PW\n",
      "COSR\n",
      "NTR\n",
      "PKNO\n"
     ]
    }
   ],
   "source": [
    "resolution = 'D'\n",
    "start = int(time.mktime(datetime.datetime(2021, 10, 1, 23, 59).timetuple()))\n",
    "stop = int(time.mktime(datetime.datetime(2021, 12, 24, 23, 59).timetuple()))\n",
    "\n",
    "f = open('symbols.txt')\n",
    "data = f.readlines()[0:20]\n",
    "\n",
    "for i in data:\n",
    "    stock = i[:-2]\n",
    "    print(stock)\n",
    "\n",
    "    finnhub_client = finnhub.Client(api_key=api_key)\n",
    "    stockdata = finnhub_client.stock_candles(stock, 'D', start, stop)\n",
    "    if(stockdata['s'] != 'no_data'):\n",
    "        addTarget(stockdata,2)\n",
    "        df = pd.DataFrame(stockdata)\n",
    "        df.to_csv(f'{stock}.csv',index=False)\n",
    "\n"
   ]
  },
  {
   "cell_type": "code",
   "execution_count": null,
   "metadata": {},
   "outputs": [],
   "source": []
  }
 ],
 "metadata": {
  "kernelspec": {
   "display_name": "Python 3",
   "language": "python",
   "name": "python3"
  },
  "language_info": {
   "codemirror_mode": {
    "name": "ipython",
    "version": 3
   },
   "file_extension": ".py",
   "mimetype": "text/x-python",
   "name": "python",
   "nbconvert_exporter": "python",
   "pygments_lexer": "ipython3",
   "version": "3.8.5"
  }
 },
 "nbformat": 4,
 "nbformat_minor": 4
}
